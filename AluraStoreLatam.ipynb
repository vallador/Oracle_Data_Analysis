{
  "cells": [
    {
      "cell_type": "markdown",
      "metadata": {
        "id": "RhEdWd9YUR6H"
      },
      "source": [
        "### Importación de datos\n",
        "\n"
      ]
    },
    {
      "cell_type": "code",
      "execution_count": 1,
      "metadata": {
        "colab": {
          "base_uri": "https://localhost:8080/",
          "height": 206
        },
        "id": "T3EvaeQ_INIL",
        "outputId": "e9c5efe1-82a3-43ab-e8d7-6d01e4fa3514"
      },
      "outputs": [
        {
          "data": {
            "text/html": [
              "<div>\n",
              "<style scoped>\n",
              "    .dataframe tbody tr th:only-of-type {\n",
              "        vertical-align: middle;\n",
              "    }\n",
              "\n",
              "    .dataframe tbody tr th {\n",
              "        vertical-align: top;\n",
              "    }\n",
              "\n",
              "    .dataframe thead th {\n",
              "        text-align: right;\n",
              "    }\n",
              "</style>\n",
              "<table border=\"1\" class=\"dataframe\">\n",
              "  <thead>\n",
              "    <tr style=\"text-align: right;\">\n",
              "      <th></th>\n",
              "      <th>Producto</th>\n",
              "      <th>Categoría del Producto</th>\n",
              "      <th>Precio</th>\n",
              "      <th>Costo de envío</th>\n",
              "      <th>Fecha de Compra</th>\n",
              "      <th>Vendedor</th>\n",
              "      <th>Lugar de Compra</th>\n",
              "      <th>Calificación</th>\n",
              "      <th>Método de pago</th>\n",
              "      <th>Cantidad de cuotas</th>\n",
              "      <th>lat</th>\n",
              "      <th>lon</th>\n",
              "    </tr>\n",
              "  </thead>\n",
              "  <tbody>\n",
              "    <tr>\n",
              "      <th>0</th>\n",
              "      <td>Asistente virtual</td>\n",
              "      <td>Electrónicos</td>\n",
              "      <td>164300.0</td>\n",
              "      <td>6900.0</td>\n",
              "      <td>16/01/2021</td>\n",
              "      <td>Pedro Gomez</td>\n",
              "      <td>Bogotá</td>\n",
              "      <td>4</td>\n",
              "      <td>Tarjeta de crédito</td>\n",
              "      <td>8</td>\n",
              "      <td>4.60971</td>\n",
              "      <td>-74.08175</td>\n",
              "    </tr>\n",
              "    <tr>\n",
              "      <th>1</th>\n",
              "      <td>Mesa de comedor</td>\n",
              "      <td>Muebles</td>\n",
              "      <td>192300.0</td>\n",
              "      <td>8400.0</td>\n",
              "      <td>18/05/2022</td>\n",
              "      <td>Beatriz Morales</td>\n",
              "      <td>Medellín</td>\n",
              "      <td>1</td>\n",
              "      <td>Tarjeta de crédito</td>\n",
              "      <td>4</td>\n",
              "      <td>6.25184</td>\n",
              "      <td>-75.56359</td>\n",
              "    </tr>\n",
              "    <tr>\n",
              "      <th>2</th>\n",
              "      <td>Juego de mesa</td>\n",
              "      <td>Juguetes</td>\n",
              "      <td>209600.0</td>\n",
              "      <td>15900.0</td>\n",
              "      <td>15/03/2021</td>\n",
              "      <td>Juan Fernandez</td>\n",
              "      <td>Cartagena</td>\n",
              "      <td>1</td>\n",
              "      <td>Tarjeta de crédito</td>\n",
              "      <td>1</td>\n",
              "      <td>10.39972</td>\n",
              "      <td>-75.51444</td>\n",
              "    </tr>\n",
              "    <tr>\n",
              "      <th>3</th>\n",
              "      <td>Microondas</td>\n",
              "      <td>Electrodomésticos</td>\n",
              "      <td>757500.0</td>\n",
              "      <td>41000.0</td>\n",
              "      <td>03/05/2022</td>\n",
              "      <td>Juan Fernandez</td>\n",
              "      <td>Cali</td>\n",
              "      <td>4</td>\n",
              "      <td>Nequi</td>\n",
              "      <td>1</td>\n",
              "      <td>3.43722</td>\n",
              "      <td>-76.52250</td>\n",
              "    </tr>\n",
              "    <tr>\n",
              "      <th>4</th>\n",
              "      <td>Silla de oficina</td>\n",
              "      <td>Muebles</td>\n",
              "      <td>335200.0</td>\n",
              "      <td>20200.0</td>\n",
              "      <td>07/11/2020</td>\n",
              "      <td>Maria Alfonso</td>\n",
              "      <td>Medellín</td>\n",
              "      <td>5</td>\n",
              "      <td>Nequi</td>\n",
              "      <td>1</td>\n",
              "      <td>6.25184</td>\n",
              "      <td>-75.56359</td>\n",
              "    </tr>\n",
              "  </tbody>\n",
              "</table>\n",
              "</div>"
            ],
            "text/plain": [
              "            Producto Categoría del Producto    Precio  Costo de envío  \\\n",
              "0  Asistente virtual           Electrónicos  164300.0          6900.0   \n",
              "1    Mesa de comedor                Muebles  192300.0          8400.0   \n",
              "2      Juego de mesa               Juguetes  209600.0         15900.0   \n",
              "3         Microondas      Electrodomésticos  757500.0         41000.0   \n",
              "4   Silla de oficina                Muebles  335200.0         20200.0   \n",
              "\n",
              "  Fecha de Compra         Vendedor Lugar de Compra  Calificación  \\\n",
              "0      16/01/2021      Pedro Gomez          Bogotá             4   \n",
              "1      18/05/2022  Beatriz Morales        Medellín             1   \n",
              "2      15/03/2021   Juan Fernandez       Cartagena             1   \n",
              "3      03/05/2022   Juan Fernandez            Cali             4   \n",
              "4      07/11/2020    Maria Alfonso        Medellín             5   \n",
              "\n",
              "       Método de pago  Cantidad de cuotas       lat       lon  \n",
              "0  Tarjeta de crédito                   8   4.60971 -74.08175  \n",
              "1  Tarjeta de crédito                   4   6.25184 -75.56359  \n",
              "2  Tarjeta de crédito                   1  10.39972 -75.51444  \n",
              "3               Nequi                   1   3.43722 -76.52250  \n",
              "4               Nequi                   1   6.25184 -75.56359  "
            ]
          },
          "execution_count": 1,
          "metadata": {},
          "output_type": "execute_result"
        }
      ],
      "source": [
        "import pandas as pd\n",
        "\n",
        "# Rutas de archivos\n",
        "url = r\"C:\\Users\\DELFOS\\Downloads\\Oracle\\Analisis Datos tienda Don Juan\\base-de-datos-challenge1-latam\\tienda_1.csv\"\n",
        "url2 = r\"C:\\Users\\DELFOS\\Downloads\\Oracle\\Analisis Datos tienda Don Juan\\base-de-datos-challenge1-latam\\tienda_2.csv\"\n",
        "url3 = r\"C:\\Users\\DELFOS\\Downloads\\Oracle\\Analisis Datos tienda Don Juan\\base-de-datos-challenge1-latam\\tienda_3.csv\"\n",
        "url4 = r\"C:\\Users\\DELFOS\\Downloads\\Oracle\\Analisis Datos tienda Don Juan\\base-de-datos-challenge1-latam\\tienda_4.csv\"\n",
        "\n",
        "tienda1 = pd.read_csv(url)\n",
        "tienda2 = pd.read_csv(url2)\n",
        "tienda3 = pd.read_csv(url3)\n",
        "tienda4 = pd.read_csv(url4)\n",
        "\n",
        "tienda1.head()"
      ]
    },
    {
      "cell_type": "markdown",
      "metadata": {
        "id": "X62IW3KFUIYm"
      },
      "source": [
        "#1. Análisis de facturación\n",
        "\n"
      ]
    },
    {
      "cell_type": "code",
      "execution_count": 3,
      "metadata": {
        "id": "xykobSftV64I"
      },
      "outputs": [],
      "source": [
        "# Calcular ingresos totales por tienda\n",
        "ingreso_t1 = (tienda1[\"Precio\"] * tienda1[\"Cantidad de cuotas\"]).sum()\n",
        "ingreso_t2 = (tienda2[\"Precio\"] * tienda2[\"Cantidad de cuotas\"]).sum()\n",
        "ingreso_t3 = (tienda3[\"Precio\"] * tienda3[\"Cantidad de cuotas\"]).sum()\n",
        "ingreso_t4 = (tienda4[\"Precio\"] * tienda4[\"Cantidad de cuotas\"]).sum()\n",
        "\n"
      ]
    },
    {
      "cell_type": "code",
      "execution_count": 4,
      "metadata": {
        "id": "KDyr8E71V3m-"
      },
      "outputs": [
        {
          "name": "stdout",
          "output_type": "stream",
          "text": [
            "Ingreso Total Tienda 1: 3422717700.0\n",
            "Ingreso Total Tienda 2: 3337189200.0\n",
            "Ingreso Total Tienda 3: 3243816900.0\n",
            "Ingreso Total Tienda 4: 3098827200.0\n"
          ]
        }
      ],
      "source": [
        "print(f\"Ingreso Total Tienda 1: {ingreso_t1}\")\n",
        "print(f\"Ingreso Total Tienda 2: {ingreso_t2}\")\n",
        "print(f\"Ingreso Total Tienda 3: {ingreso_t3}\")\n",
        "print(f\"Ingreso Total Tienda 4: {ingreso_t4}\")"
      ]
    },
    {
      "cell_type": "markdown",
      "metadata": {
        "id": "2V_vcAPzWZmR"
      },
      "source": [
        "# 2. Ventas por categoría"
      ]
    },
    {
      "cell_type": "code",
      "execution_count": 5,
      "metadata": {
        "id": "A34YupIuYhfF"
      },
      "outputs": [],
      "source": [
        "# Contar ventas por categoría para cada tienda\n",
        "ventas_categoria_t1 = tienda1[\"Categoría del Producto\"].value_counts()\n",
        "ventas_categoria_t2 = tienda2[\"Categoría del Producto\"].value_counts()\n",
        "ventas_categoria_t3 = tienda3[\"Categoría del Producto\"].value_counts()\n",
        "ventas_categoria_t4 = tienda4[\"Categoría del Producto\"].value_counts()\n",
        "\n"
      ]
    },
    {
      "cell_type": "code",
      "execution_count": 6,
      "metadata": {
        "id": "yZR6cOjXYSk1"
      },
      "outputs": [
        {
          "name": "stdout",
          "output_type": "stream",
          "text": [
            "Ventas por categoría Tienda 1:\n",
            "Categoría del Producto\n",
            "Muebles                    465\n",
            "Electrónicos               448\n",
            "Juguetes                   324\n",
            "Electrodomésticos          312\n",
            "Deportes y diversión       284\n",
            "Instrumentos musicales     182\n",
            "Libros                     173\n",
            "Artículos para el hogar    171\n",
            "Name: count, dtype: int64\n",
            "\n",
            "Ventas por categoría Tienda 2:\n",
            "Categoría del Producto\n",
            "Muebles                    442\n",
            "Electrónicos               422\n",
            "Juguetes                   313\n",
            "Electrodomésticos          305\n",
            "Deportes y diversión       275\n",
            "Instrumentos musicales     224\n",
            "Libros                     197\n",
            "Artículos para el hogar    181\n",
            "Name: count, dtype: int64\n",
            "\n",
            "Ventas por categoría Tienda 3:\n",
            "Categoría del Producto\n",
            "Muebles                    499\n",
            "Electrónicos               451\n",
            "Juguetes                   315\n",
            "Electrodomésticos          278\n",
            "Deportes y diversión       277\n",
            "Libros                     185\n",
            "Instrumentos musicales     177\n",
            "Artículos para el hogar    177\n",
            "Name: count, dtype: int64\n",
            "\n",
            "Ventas por categoría Tienda 4:\n",
            "Categoría del Producto\n",
            "Muebles                    480\n",
            "Electrónicos               451\n",
            "Juguetes                   338\n",
            "Deportes y diversión       277\n",
            "Electrodomésticos          254\n",
            "Artículos para el hogar    201\n",
            "Libros                     187\n",
            "Instrumentos musicales     170\n",
            "Name: count, dtype: int64\n"
          ]
        }
      ],
      "source": [
        "print(\"Ventas por categoría Tienda 1:\")\n",
        "print(ventas_categoria_t1)\n",
        "\n",
        "print(\"\\nVentas por categoría Tienda 2:\")\n",
        "print(ventas_categoria_t2)\n",
        "\n",
        "print(\"\\nVentas por categoría Tienda 3:\")\n",
        "print(ventas_categoria_t3)\n",
        "\n",
        "print(\"\\nVentas por categoría Tienda 4:\")\n",
        "print(ventas_categoria_t4)"
      ]
    },
    {
      "cell_type": "markdown",
      "metadata": {
        "id": "Rq6tU_xSY3jk"
      },
      "source": [
        "# 3. Calificación promedio de la tienda\n"
      ]
    },
    {
      "cell_type": "code",
      "execution_count": 7,
      "metadata": {
        "id": "bh3jjjJwY5MU"
      },
      "outputs": [],
      "source": [
        "calif_t1 = tienda1[\"Calificación\"].mean()\n",
        "calif_t2 = tienda2[\"Calificación\"].mean()\n",
        "calif_t3 = tienda3[\"Calificación\"].mean()\n",
        "calif_t4 = tienda4[\"Calificación\"].mean()\n",
        "\n"
      ]
    },
    {
      "cell_type": "code",
      "execution_count": 8,
      "metadata": {
        "id": "I0KkjPoTY88F"
      },
      "outputs": [
        {
          "name": "stdout",
          "output_type": "stream",
          "text": [
            "Calificación promedio Tienda 1: 3.98\n",
            "Calificación promedio Tienda 2: 4.04\n",
            "Calificación promedio Tienda 3: 4.05\n",
            "Calificación promedio Tienda 4: 4.00\n"
          ]
        }
      ],
      "source": [
        "print(f\"Calificación promedio Tienda 1: {calif_t1:.2f}\")\n",
        "print(f\"Calificación promedio Tienda 2: {calif_t2:.2f}\")\n",
        "print(f\"Calificación promedio Tienda 3: {calif_t3:.2f}\")\n",
        "print(f\"Calificación promedio Tienda 4: {calif_t4:.2f}\")"
      ]
    },
    {
      "cell_type": "markdown",
      "metadata": {
        "id": "DmNp1KPBZCm-"
      },
      "source": [
        "# 4. Productos más y menos vendidos"
      ]
    },
    {
      "cell_type": "code",
      "execution_count": 9,
      "metadata": {
        "id": "qoyjqijQZHfF"
      },
      "outputs": [],
      "source": [
        "def productos_top_bottom(df, n=5):\n",
        "    ventas = df[\"Producto\"].value_counts()\n",
        "    return ventas.head(n), ventas.tail(n)\n",
        "\n",
        "top_t1, bottom_t1 = productos_top_bottom(tienda1)\n",
        "top_t2, bottom_t2 = productos_top_bottom(tienda2)\n",
        "top_t3, bottom_t3 = productos_top_bottom(tienda3)\n",
        "top_t4, bottom_t4 = productos_top_bottom(tienda4)\n",
        "\n"
      ]
    },
    {
      "cell_type": "code",
      "execution_count": 10,
      "metadata": {
        "id": "0Sw3sd4IZIGW"
      },
      "outputs": [
        {
          "name": "stdout",
          "output_type": "stream",
          "text": [
            "Productos más vendidos Tienda 1:\n",
            "Producto\n",
            "Microondas          60\n",
            "TV LED UHD 4K       60\n",
            "Armario             60\n",
            "Secadora de ropa    58\n",
            "Mesa de noche       56\n",
            "Name: count, dtype: int64\n",
            "\n",
            "Productos menos vendidos Tienda 1:\n",
            "Producto\n",
            "Ciencia de datos con Python    39\n",
            "Pandereta                      36\n",
            "Olla de presión                35\n",
            "Auriculares con micrófono      33\n",
            "Celular ABXY                   33\n",
            "Name: count, dtype: int64\n",
            "Productos más vendidos Tienda 2:\n",
            "Producto\n",
            "Iniciando en programación    65\n",
            "Microondas                   62\n",
            "Batería                      61\n",
            "Guitarra acústica            58\n",
            "Pandereta                    58\n",
            "Name: count, dtype: int64\n",
            "\n",
            "Productos menos vendidos Tienda 2:\n",
            "Producto\n",
            "Auriculares        37\n",
            "Sillón             35\n",
            "Mesa de comedor    34\n",
            "Impresora          34\n",
            "Juego de mesa      32\n",
            "Name: count, dtype: int64\n",
            "Productos más vendidos Tienda 3:\n",
            "Producto\n",
            "Kit de bancas      57\n",
            "Mesa de comedor    56\n",
            "Cama king          56\n",
            "Set de ollas       55\n",
            "Mesa de noche      55\n",
            "Name: count, dtype: int64\n",
            "\n",
            "Productos menos vendidos Tienda 3:\n",
            "Producto\n",
            "Guitarra eléctrica         38\n",
            "Set de vasos               36\n",
            "Mochila                    36\n",
            "Microondas                 36\n",
            "Bloques de construcción    35\n",
            "Name: count, dtype: int64\n",
            "Productos más vendidos Tienda 4:\n",
            "Producto\n",
            "Cama box                     62\n",
            "Cubertería                   59\n",
            "Dashboards con Power BI      56\n",
            "Cama king                    56\n",
            "Carrito de control remoto    55\n",
            "Name: count, dtype: int64\n",
            "\n",
            "Productos menos vendidos Tienda 4:\n",
            "Producto\n",
            "Refrigerador                   38\n",
            "Ciencia de datos con Python    38\n",
            "Guitarra acústica              37\n",
            "Armario                        34\n",
            "Guitarra eléctrica             33\n",
            "Name: count, dtype: int64\n"
          ]
        }
      ],
      "source": [
        "print(\"Productos más vendidos Tienda 1:\")\n",
        "print(top_t1)\n",
        "print(\"\\nProductos menos vendidos Tienda 1:\")\n",
        "print(bottom_t1)\n",
        "print(\"Productos más vendidos Tienda 2:\")\n",
        "print(top_t2)\n",
        "print(\"\\nProductos menos vendidos Tienda 2:\")\n",
        "print(bottom_t2)\n",
        "print(\"Productos más vendidos Tienda 3:\")\n",
        "print(top_t3)\n",
        "print(\"\\nProductos menos vendidos Tienda 3:\")\n",
        "print(bottom_t3)\n",
        "print(\"Productos más vendidos Tienda 4:\")\n",
        "print(top_t4)\n",
        "print(\"\\nProductos menos vendidos Tienda 4:\")\n",
        "print(bottom_t4)"
      ]
    },
    {
      "cell_type": "markdown",
      "metadata": {
        "id": "Fl0cGi3bZKqU"
      },
      "source": [
        "# 5. Envío promedio por tienda"
      ]
    },
    {
      "cell_type": "code",
      "execution_count": 11,
      "metadata": {
        "id": "S2JeaCykZNy9"
      },
      "outputs": [],
      "source": [
        "prom_envio_t1 = tienda1[\"Costo de envío\"].mean()\n",
        "prom_envio_t2 = tienda2[\"Costo de envío\"].mean()\n",
        "prom_envio_t3 = tienda3[\"Costo de envío\"].mean()\n",
        "prom_envio_t4 = tienda4[\"Costo de envío\"].mean()\n"
      ]
    },
    {
      "cell_type": "code",
      "execution_count": 12,
      "metadata": {
        "id": "0tSdCie9ZQlt"
      },
      "outputs": [
        {
          "name": "stdout",
          "output_type": "stream",
          "text": [
            "Costo de envío promedio Tienda 1: 26018.61\n",
            "Costo de envío promedio Tienda 2: 25216.24\n",
            "Costo de envío promedio Tienda 3: 24805.68\n",
            "Costo de envío promedio Tienda 4: 23459.46\n"
          ]
        }
      ],
      "source": [
        "\n",
        "print(f\"Costo de envío promedio Tienda 1: {prom_envio_t1:.2f}\")\n",
        "print(f\"Costo de envío promedio Tienda 2: {prom_envio_t2:.2f}\")\n",
        "print(f\"Costo de envío promedio Tienda 3: {prom_envio_t3:.2f}\")\n",
        "print(f\"Costo de envío promedio Tienda 4: {prom_envio_t4:.2f}\")\n"
      ]
    },
    {
      "cell_type": "markdown",
      "metadata": {},
      "source": [
        "# 6. ANÁLISIS ESPACIAL"
      ]
    },
    {
      "cell_type": "code",
      "execution_count": 13,
      "metadata": {},
      "outputs": [
        {
          "data": {
            "image/png": "[encoded data removed]",
            "text/plain": [
              "<Figure size 1000x600 with 1 Axes>"
            ]
          },
          "metadata": {},
          "output_type": "display_data"
        },
        {
          "data": {
            "image/png": "[encoded data removed]",
            "text/plain": [
              "<Figure size 1000x600 with 1 Axes>"
            ]
          },
          "metadata": {},
          "output_type": "display_data"
        }
      ],
      "source": [
        "import matplotlib.pyplot as plt\n",
        "import seaborn as sns\n",
        "\n",
        "# Unir todos los datos para análisis espacial conjunto\n",
        "all_data = pd.concat([tienda1, tienda2, tienda3, tienda4], ignore_index=True)\n",
        "\n",
        "# Scatter plot de latitud y longitud (ubicación de ventas)\n",
        "plt.figure(figsize=(10, 6))\n",
        "sns.scatterplot(data=all_data, x=\"lon\", y=\"lat\", hue=\"Categoría del Producto\", palette=\"tab10\", alpha=0.7)\n",
        "plt.title(\"Distribución espacial de ventas por categoría\")\n",
        "plt.xlabel(\"Longitud\")\n",
        "plt.ylabel(\"Latitud\")\n",
        "plt.legend(bbox_to_anchor=(1.05, 1), loc='upper left')\n",
        "plt.tight_layout()\n",
        "plt.show()\n",
        "\n",
        "# Mapa de calor (Heatmap) de concentración de ventas\n",
        "plt.figure(figsize=(10, 6))\n",
        "sns.kdeplot(data=all_data, x=\"lon\", y=\"lat\", fill=True, cmap=\"Reds\", bw_adjust=0.5)\n",
        "plt.title(\"Mapa de calor de concentración de ventas\")\n",
        "plt.xlabel(\"Longitud\")\n",
        "plt.ylabel(\"Latitud\")\n",
        "plt.tight_layout()\n",
        "plt.show()\n"
      ]
    }
  ],
  "metadata": {
    "colab": {
      "provenance": []
    },
    "kernelspec": {
      "display_name": "Python 3",
      "language": "python",
      "name": "python3"
    },
    "language_info": {
      "codemirror_mode": {
        "name": "ipython",
        "version": 3
      },
      "file_extension": ".py",
      "mimetype": "text/x-python",
      "name": "python",
      "nbconvert_exporter": "python",
      "pygments_lexer": "ipython3",
      "version": "3.13.2"
    }
  },
  "nbformat": 4,
  "nbformat_minor": 0
}
